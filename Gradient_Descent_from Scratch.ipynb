{
 "cells": [
  {
   "cell_type": "markdown",
   "metadata": {},
   "source": [
    "## Linear Regression model with gradient descent in python from scratch"
   ]
  },
  {
   "cell_type": "markdown",
   "metadata": {},
   "source": [
    "__Here in this notebook inorder to just to understand the working of gradient descent in python from scratch we took a simple house price prediction dataset and only took one input feature(# of bedrooms) for simplicity and defined a gradient descent function and compared the results with sklearn Linear regression model__"
   ]
  },
  {
   "cell_type": "code",
   "execution_count": 1,
   "metadata": {},
   "outputs": [],
   "source": [
    "import numpy as np\n",
    "import pandas as pd\n",
    "import matplotlib.pyplot as plt"
   ]
  },
  {
   "cell_type": "code",
   "execution_count": 6,
   "metadata": {},
   "outputs": [
    {
     "data": {
      "text/html": [
       "<div>\n",
       "<style scoped>\n",
       "    .dataframe tbody tr th:only-of-type {\n",
       "        vertical-align: middle;\n",
       "    }\n",
       "\n",
       "    .dataframe tbody tr th {\n",
       "        vertical-align: top;\n",
       "    }\n",
       "\n",
       "    .dataframe thead th {\n",
       "        text-align: right;\n",
       "    }\n",
       "</style>\n",
       "<table border=\"1\" class=\"dataframe\">\n",
       "  <thead>\n",
       "    <tr style=\"text-align: right;\">\n",
       "      <th></th>\n",
       "      <th>price</th>\n",
       "      <th>bedrooms</th>\n",
       "    </tr>\n",
       "  </thead>\n",
       "  <tbody>\n",
       "    <tr>\n",
       "      <th>0</th>\n",
       "      <td>221900.0</td>\n",
       "      <td>3</td>\n",
       "    </tr>\n",
       "    <tr>\n",
       "      <th>1</th>\n",
       "      <td>538000.0</td>\n",
       "      <td>3</td>\n",
       "    </tr>\n",
       "    <tr>\n",
       "      <th>2</th>\n",
       "      <td>180000.0</td>\n",
       "      <td>2</td>\n",
       "    </tr>\n",
       "    <tr>\n",
       "      <th>3</th>\n",
       "      <td>604000.0</td>\n",
       "      <td>4</td>\n",
       "    </tr>\n",
       "    <tr>\n",
       "      <th>4</th>\n",
       "      <td>510000.0</td>\n",
       "      <td>3</td>\n",
       "    </tr>\n",
       "  </tbody>\n",
       "</table>\n",
       "</div>"
      ],
      "text/plain": [
       "      price  bedrooms\n",
       "0  221900.0         3\n",
       "1  538000.0         3\n",
       "2  180000.0         2\n",
       "3  604000.0         4\n",
       "4  510000.0         3"
      ]
     },
     "execution_count": 6,
     "metadata": {},
     "output_type": "execute_result"
    }
   ],
   "source": [
    "cols=['bedrooms','price']\n",
    "df=pd.read_csv(\"C://Users//sangeeth kumar//PycharmProjects//python_class2//Sangeeth_Sessions//kc_house_data.csv\",usecols=cols)\n",
    "df.head()"
   ]
  },
  {
   "cell_type": "code",
   "execution_count": 7,
   "metadata": {},
   "outputs": [],
   "source": [
    "x=df['bedrooms']\n",
    "y=df['price']"
   ]
  },
  {
   "cell_type": "code",
   "execution_count": 15,
   "metadata": {},
   "outputs": [],
   "source": [
    "# standardizing the input values\n",
    "def standardize(x):\n",
    "    return (x-np.mean(x))/np.std(x)"
   ]
  },
  {
   "cell_type": "code",
   "execution_count": 17,
   "metadata": {},
   "outputs": [
    {
     "name": "stdout",
     "output_type": "stream",
     "text": [
      "[[ 1.         -0.39873715]\n",
      " [ 1.         -0.39873715]\n",
      " [ 1.         -1.47395936]\n",
      " ...\n",
      " [ 1.         -1.47395936]\n",
      " [ 1.         -0.39873715]\n",
      " [ 1.         -1.47395936]]\n"
     ]
    }
   ],
   "source": [
    "X=standardize(x)\n",
    "X=np.c_[np.ones(x.shape[0]),X]\n",
    "print(X)"
   ]
  },
  {
   "cell_type": "code",
   "execution_count": 24,
   "metadata": {},
   "outputs": [
    {
     "name": "stdout",
     "output_type": "stream",
     "text": [
      "[array([0.51729788, 0.9469626 ])]\n"
     ]
    }
   ],
   "source": [
    "alpha=0.01\n",
    "m=y.size\n",
    "np.random.seed(23)\n",
    "theta=np.random.rand(2)\n",
    "iterations=2000\n",
    "\n",
    "def gradient_descent(x,y,theta,alpha,iterations):\n",
    "    past_costs=[]\n",
    "    past_thetas=[theta]\n",
    "    print(past_thetas)\n",
    "    for i in range(iterations):\n",
    "        prediction=np.dot(x,theta) #line equation (theta*x)\n",
    "        error=prediction-y # error value\n",
    "        cost=1/(m)*np.dot(error.T,error) #cost function\n",
    "        past_costs.append(cost)\n",
    "        theta=theta-(alpha*(1/m)*np.dot(x.T,error)) #updating theta values\n",
    "        past_thetas.append(theta)\n",
    "    return past_costs,past_thetas\n",
    "past_costs,past_thetas=gradient_descent(X,y,theta,alpha,iterations)\n"
   ]
  },
  {
   "cell_type": "code",
   "execution_count": 28,
   "metadata": {},
   "outputs": [
    {
     "name": "stdout",
     "output_type": "stream",
     "text": [
      "[540088.14075994 113200.90438675]\n"
     ]
    }
   ],
   "source": [
    "print(past_thetas[-1])"
   ]
  },
  {
   "cell_type": "code",
   "execution_count": null,
   "metadata": {},
   "outputs": [],
   "source": []
  },
  {
   "cell_type": "code",
   "execution_count": 11,
   "metadata": {},
   "outputs": [
    {
     "data": {
      "image/png": "[encoded data removed]",
      "text/plain": [
       "<Figure size 432x288 with 1 Axes>"
      ]
     },
     "metadata": {
      "needs_background": "light"
     },
     "output_type": "display_data"
    }
   ],
   "source": [
    "plt.title('Cost Function J')\n",
    "plt.xlabel('No. of iterations')\n",
    "plt.ylabel('Cost')\n",
    "plt.plot(past_costs)\n",
    "plt.show()"
   ]
  },
  {
   "cell_type": "markdown",
   "metadata": {},
   "source": [
    "__Comparing our results with sklearn Linear regression model__"
   ]
  },
  {
   "cell_type": "code",
   "execution_count": 12,
   "metadata": {},
   "outputs": [],
   "source": [
    "from sklearn.linear_model import LinearRegression\n",
    "from sklearn.model_selection import train_test_split"
   ]
  },
  {
   "cell_type": "code",
   "execution_count": 25,
   "metadata": {},
   "outputs": [
    {
     "name": "stdout",
     "output_type": "stream",
     "text": [
      "[373236.06151341 981708.55149681 494930.55951009 ... 494930.55951009\n",
      " 494930.55951009 494930.55951009]\n"
     ]
    }
   ],
   "source": [
    "x_train,x_test,y_train,y_test=train_test_split(X,y,test_size=0.2,random_state=23)\n",
    "lm=LinearRegression().fit(x_train,y_train)\n",
    "predictions=lm.predict(x_test)\n",
    "print(predictions)"
   ]
  },
  {
   "cell_type": "code",
   "execution_count": 14,
   "metadata": {},
   "outputs": [
    {
     "name": "stdout",
     "output_type": "stream",
     "text": [
      "Linear Regression model Intercept: 540059.9446691773\n",
      "Linear Regression model Theta1 113180.78920668224\n"
     ]
    }
   ],
   "source": [
    "print(\"Linear Regression model Intercept:\",lm.intercept_)\n",
    "print(\"Linear Regression model Theta1\",lm.coef_[1])"
   ]
  },
  {
   "cell_type": "markdown",
   "metadata": {},
   "source": [
    "__As we can see the results of our gradient descent function are Intercept: 540088.14075994,Theta1: 113200.90438675__\n",
    "__are much closer to the results of sklearn Linear regression model i.e. Intercept: 540059.9446691773,Theta1: 113180.78920668224__"
   ]
  },
  {
   "cell_type": "markdown",
   "metadata": {},
   "source": [
    "### Thankyou for your interest,please update the notebook if u find any improvements required."
   ]
  }
 ],
 "metadata": {
  "kernelspec": {
   "display_name": "Python 3",
   "language": "python",
   "name": "python3"
  },
  "language_info": {
   "codemirror_mode": {
    "name": "ipython",
    "version": 3
   },
   "file_extension": ".py",
   "mimetype": "text/x-python",
   "name": "python",
   "nbconvert_exporter": "python",
   "pygments_lexer": "ipython3",
   "version": "3.7.3"
  }
 },
 "nbformat": 4,
 "nbformat_minor": 2
}
