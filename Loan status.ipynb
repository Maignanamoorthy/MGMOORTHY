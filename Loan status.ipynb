{
 "cells": [
  {
   "cell_type": "code",
   "execution_count": 1,
   "metadata": {},
   "outputs": [],
   "source": [
    "import pandas as pd\n",
    "import numpy as np\n",
    "import matplotlib.pyplot as plt\n",
    "import seaborn as sns\n",
    "import matplotlib.ticker as mtick\n",
    "from sklearn.model_selection import train_test_split\n",
    "from sklearn import metrics as sm\n",
    "from sklearn.metrics import roc_auc_score\n",
    "from sklearn.linear_model import LogisticRegression,LinearRegression,Ridge,Lasso\n",
    "from sklearn.tree import DecisionTreeClassifier\n",
    "from scikitplot.metrics import plot_roc_curve\n",
    "from sklearn.metrics import mean_squared_error,r2_score"
   ]
  },
  {
   "cell_type": "code",
   "execution_count": 2,
   "metadata": {},
   "outputs": [],
   "source": [
    "df=pd.read_csv(\"credit_train.csv\")"
   ]
  },
  {
   "cell_type": "code",
   "execution_count": 3,
   "metadata": {},
   "outputs": [
    {
     "data": {
      "text/html": [
       "<div>\n",
       "<style scoped>\n",
       "    .dataframe tbody tr th:only-of-type {\n",
       "        vertical-align: middle;\n",
       "    }\n",
       "\n",
       "    .dataframe tbody tr th {\n",
       "        vertical-align: top;\n",
       "    }\n",
       "\n",
       "    .dataframe thead th {\n",
       "        text-align: right;\n",
       "    }\n",
       "</style>\n",
       "<table border=\"1\" class=\"dataframe\">\n",
       "  <thead>\n",
       "    <tr style=\"text-align: right;\">\n",
       "      <th></th>\n",
       "      <th>Loan ID</th>\n",
       "      <th>Customer ID</th>\n",
       "      <th>Loan Status</th>\n",
       "      <th>Current Loan Amount</th>\n",
       "      <th>Term</th>\n",
       "      <th>Credit Score</th>\n",
       "      <th>Annual Income</th>\n",
       "      <th>Years in current job</th>\n",
       "      <th>Home Ownership</th>\n",
       "      <th>Purpose</th>\n",
       "      <th>Monthly Debt</th>\n",
       "      <th>Years of Credit History</th>\n",
       "      <th>Months since last delinquent</th>\n",
       "      <th>Number of Open Accounts</th>\n",
       "      <th>Number of Credit Problems</th>\n",
       "      <th>Current Credit Balance</th>\n",
       "      <th>Maximum Open Credit</th>\n",
       "      <th>Bankruptcies</th>\n",
       "      <th>Tax Liens</th>\n",
       "    </tr>\n",
       "  </thead>\n",
       "  <tbody>\n",
       "    <tr>\n",
       "      <th>0</th>\n",
       "      <td>14dd8831-6af5-400b-83ec-68e61888a048</td>\n",
       "      <td>981165ec-3274-42f5-a3b4-d104041a9ca9</td>\n",
       "      <td>Fully Paid</td>\n",
       "      <td>445412</td>\n",
       "      <td>Short Term</td>\n",
       "      <td>709.0</td>\n",
       "      <td>1167493.0</td>\n",
       "      <td>8 years</td>\n",
       "      <td>Home Mortgage</td>\n",
       "      <td>Home Improvements</td>\n",
       "      <td>5214.74</td>\n",
       "      <td>17.2</td>\n",
       "      <td>NaN</td>\n",
       "      <td>6</td>\n",
       "      <td>1</td>\n",
       "      <td>228190</td>\n",
       "      <td>416746.0</td>\n",
       "      <td>1.0</td>\n",
       "      <td>0.0</td>\n",
       "    </tr>\n",
       "    <tr>\n",
       "      <th>1</th>\n",
       "      <td>4771cc26-131a-45db-b5aa-537ea4ba5342</td>\n",
       "      <td>2de017a3-2e01-49cb-a581-08169e83be29</td>\n",
       "      <td>Fully Paid</td>\n",
       "      <td>262328</td>\n",
       "      <td>Short Term</td>\n",
       "      <td>NaN</td>\n",
       "      <td>NaN</td>\n",
       "      <td>10+ years</td>\n",
       "      <td>Home Mortgage</td>\n",
       "      <td>Debt Consolidation</td>\n",
       "      <td>33295.98</td>\n",
       "      <td>21.1</td>\n",
       "      <td>8.0</td>\n",
       "      <td>35</td>\n",
       "      <td>0</td>\n",
       "      <td>229976</td>\n",
       "      <td>850784.0</td>\n",
       "      <td>0.0</td>\n",
       "      <td>0.0</td>\n",
       "    </tr>\n",
       "    <tr>\n",
       "      <th>2</th>\n",
       "      <td>4eed4e6a-aa2f-4c91-8651-ce984ee8fb26</td>\n",
       "      <td>5efb2b2b-bf11-4dfd-a572-3761a2694725</td>\n",
       "      <td>Fully Paid</td>\n",
       "      <td>99999999</td>\n",
       "      <td>Short Term</td>\n",
       "      <td>741.0</td>\n",
       "      <td>2231892.0</td>\n",
       "      <td>8 years</td>\n",
       "      <td>Own Home</td>\n",
       "      <td>Debt Consolidation</td>\n",
       "      <td>29200.53</td>\n",
       "      <td>14.9</td>\n",
       "      <td>29.0</td>\n",
       "      <td>18</td>\n",
       "      <td>1</td>\n",
       "      <td>297996</td>\n",
       "      <td>750090.0</td>\n",
       "      <td>0.0</td>\n",
       "      <td>0.0</td>\n",
       "    </tr>\n",
       "    <tr>\n",
       "      <th>3</th>\n",
       "      <td>77598f7b-32e7-4e3b-a6e5-06ba0d98fe8a</td>\n",
       "      <td>e777faab-98ae-45af-9a86-7ce5b33b1011</td>\n",
       "      <td>Fully Paid</td>\n",
       "      <td>347666</td>\n",
       "      <td>Long Term</td>\n",
       "      <td>721.0</td>\n",
       "      <td>806949.0</td>\n",
       "      <td>3 years</td>\n",
       "      <td>Own Home</td>\n",
       "      <td>Debt Consolidation</td>\n",
       "      <td>8741.90</td>\n",
       "      <td>12.0</td>\n",
       "      <td>NaN</td>\n",
       "      <td>9</td>\n",
       "      <td>0</td>\n",
       "      <td>256329</td>\n",
       "      <td>386958.0</td>\n",
       "      <td>0.0</td>\n",
       "      <td>0.0</td>\n",
       "    </tr>\n",
       "    <tr>\n",
       "      <th>4</th>\n",
       "      <td>d4062e70-befa-4995-8643-a0de73938182</td>\n",
       "      <td>81536ad9-5ccf-4eb8-befb-47a4d608658e</td>\n",
       "      <td>Fully Paid</td>\n",
       "      <td>176220</td>\n",
       "      <td>Short Term</td>\n",
       "      <td>NaN</td>\n",
       "      <td>NaN</td>\n",
       "      <td>5 years</td>\n",
       "      <td>Rent</td>\n",
       "      <td>Debt Consolidation</td>\n",
       "      <td>20639.70</td>\n",
       "      <td>6.1</td>\n",
       "      <td>NaN</td>\n",
       "      <td>15</td>\n",
       "      <td>0</td>\n",
       "      <td>253460</td>\n",
       "      <td>427174.0</td>\n",
       "      <td>0.0</td>\n",
       "      <td>0.0</td>\n",
       "    </tr>\n",
       "  </tbody>\n",
       "</table>\n",
       "</div>"
      ],
      "text/plain": [
       "                                Loan ID                           Customer ID  \\\n",
       "0  14dd8831-6af5-400b-83ec-68e61888a048  981165ec-3274-42f5-a3b4-d104041a9ca9   \n",
       "1  4771cc26-131a-45db-b5aa-537ea4ba5342  2de017a3-2e01-49cb-a581-08169e83be29   \n",
       "2  4eed4e6a-aa2f-4c91-8651-ce984ee8fb26  5efb2b2b-bf11-4dfd-a572-3761a2694725   \n",
       "3  77598f7b-32e7-4e3b-a6e5-06ba0d98fe8a  e777faab-98ae-45af-9a86-7ce5b33b1011   \n",
       "4  d4062e70-befa-4995-8643-a0de73938182  81536ad9-5ccf-4eb8-befb-47a4d608658e   \n",
       "\n",
       "  Loan Status  Current Loan Amount        Term  Credit Score  Annual Income  \\\n",
       "0  Fully Paid               445412  Short Term         709.0      1167493.0   \n",
       "1  Fully Paid               262328  Short Term           NaN            NaN   \n",
       "2  Fully Paid             99999999  Short Term         741.0      2231892.0   \n",
       "3  Fully Paid               347666   Long Term         721.0       806949.0   \n",
       "4  Fully Paid               176220  Short Term           NaN            NaN   \n",
       "\n",
       "  Years in current job Home Ownership             Purpose  Monthly Debt  \\\n",
       "0              8 years  Home Mortgage   Home Improvements       5214.74   \n",
       "1            10+ years  Home Mortgage  Debt Consolidation      33295.98   \n",
       "2              8 years       Own Home  Debt Consolidation      29200.53   \n",
       "3              3 years       Own Home  Debt Consolidation       8741.90   \n",
       "4              5 years           Rent  Debt Consolidation      20639.70   \n",
       "\n",
       "   Years of Credit History  Months since last delinquent  \\\n",
       "0                     17.2                           NaN   \n",
       "1                     21.1                           8.0   \n",
       "2                     14.9                          29.0   \n",
       "3                     12.0                           NaN   \n",
       "4                      6.1                           NaN   \n",
       "\n",
       "   Number of Open Accounts  Number of Credit Problems  Current Credit Balance  \\\n",
       "0                        6                          1                  228190   \n",
       "1                       35                          0                  229976   \n",
       "2                       18                          1                  297996   \n",
       "3                        9                          0                  256329   \n",
       "4                       15                          0                  253460   \n",
       "\n",
       "   Maximum Open Credit  Bankruptcies  Tax Liens  \n",
       "0             416746.0           1.0        0.0  \n",
       "1             850784.0           0.0        0.0  \n",
       "2             750090.0           0.0        0.0  \n",
       "3             386958.0           0.0        0.0  \n",
       "4             427174.0           0.0        0.0  "
      ]
     },
     "execution_count": 3,
     "metadata": {},
     "output_type": "execute_result"
    }
   ],
   "source": [
    "df.head()"
   ]
  },
  {
   "cell_type": "code",
   "execution_count": 4,
   "metadata": {},
   "outputs": [],
   "source": [
    "df.drop(['Loan ID', 'Customer ID','Months since last delinquent'],axis=1,inplace=True)"
   ]
  },
  {
   "cell_type": "code",
   "execution_count": 5,
   "metadata": {},
   "outputs": [
    {
     "data": {
      "text/plain": [
       "(100000, 16)"
      ]
     },
     "execution_count": 5,
     "metadata": {},
     "output_type": "execute_result"
    }
   ],
   "source": [
    "df.shape"
   ]
  },
  {
   "cell_type": "code",
   "execution_count": 6,
   "metadata": {},
   "outputs": [
    {
     "data": {
      "text/plain": [
       "Loan Status                      0\n",
       "Current Loan Amount              0\n",
       "Term                             0\n",
       "Credit Score                 19154\n",
       "Annual Income                19154\n",
       "Years in current job          4222\n",
       "Home Ownership                   0\n",
       "Purpose                          0\n",
       "Monthly Debt                     0\n",
       "Years of Credit History          0\n",
       "Number of Open Accounts          0\n",
       "Number of Credit Problems        0\n",
       "Current Credit Balance           0\n",
       "Maximum Open Credit              2\n",
       "Bankruptcies                   204\n",
       "Tax Liens                       10\n",
       "dtype: int64"
      ]
     },
     "execution_count": 6,
     "metadata": {},
     "output_type": "execute_result"
    }
   ],
   "source": [
    "df.isna().sum()"
   ]
  },
  {
   "cell_type": "code",
   "execution_count": 7,
   "metadata": {},
   "outputs": [
    {
     "data": {
      "text/plain": [
       "Loan Status                      0\n",
       "Current Loan Amount              0\n",
       "Term                             0\n",
       "Credit Score                 19154\n",
       "Annual Income                19154\n",
       "Years in current job          4222\n",
       "Home Ownership                   0\n",
       "Purpose                          0\n",
       "Monthly Debt                     0\n",
       "Years of Credit History          0\n",
       "Number of Open Accounts          0\n",
       "Number of Credit Problems        0\n",
       "Current Credit Balance           0\n",
       "Maximum Open Credit              2\n",
       "Bankruptcies                   204\n",
       "Tax Liens                       10\n",
       "dtype: int64"
      ]
     },
     "execution_count": 7,
     "metadata": {},
     "output_type": "execute_result"
    }
   ],
   "source": [
    "df.isnull().sum()"
   ]
  },
  {
   "cell_type": "code",
   "execution_count": 8,
   "metadata": {},
   "outputs": [
    {
     "data": {
      "text/plain": [
       "Loan Status                   object\n",
       "Current Loan Amount            int64\n",
       "Term                          object\n",
       "Credit Score                 float64\n",
       "Annual Income                float64\n",
       "Years in current job          object\n",
       "Home Ownership                object\n",
       "Purpose                       object\n",
       "Monthly Debt                 float64\n",
       "Years of Credit History      float64\n",
       "Number of Open Accounts        int64\n",
       "Number of Credit Problems      int64\n",
       "Current Credit Balance         int64\n",
       "Maximum Open Credit          float64\n",
       "Bankruptcies                 float64\n",
       "Tax Liens                    float64\n",
       "dtype: object"
      ]
     },
     "execution_count": 8,
     "metadata": {},
     "output_type": "execute_result"
    }
   ],
   "source": [
    "df.dtypes"
   ]
  },
  {
   "cell_type": "code",
   "execution_count": 9,
   "metadata": {},
   "outputs": [],
   "source": [
    "cat=df.select_dtypes(include=\"object\")\n",
    "num=df.select_dtypes(include=\"number\")"
   ]
  },
  {
   "cell_type": "code",
   "execution_count": 10,
   "metadata": {},
   "outputs": [
    {
     "data": {
      "text/html": [
       "<div>\n",
       "<style scoped>\n",
       "    .dataframe tbody tr th:only-of-type {\n",
       "        vertical-align: middle;\n",
       "    }\n",
       "\n",
       "    .dataframe tbody tr th {\n",
       "        vertical-align: top;\n",
       "    }\n",
       "\n",
       "    .dataframe thead th {\n",
       "        text-align: right;\n",
       "    }\n",
       "</style>\n",
       "<table border=\"1\" class=\"dataframe\">\n",
       "  <thead>\n",
       "    <tr style=\"text-align: right;\">\n",
       "      <th></th>\n",
       "      <th>Current Loan Amount</th>\n",
       "      <th>Credit Score</th>\n",
       "      <th>Annual Income</th>\n",
       "      <th>Monthly Debt</th>\n",
       "      <th>Years of Credit History</th>\n",
       "      <th>Number of Open Accounts</th>\n",
       "      <th>Number of Credit Problems</th>\n",
       "      <th>Current Credit Balance</th>\n",
       "      <th>Maximum Open Credit</th>\n",
       "      <th>Bankruptcies</th>\n",
       "      <th>Tax Liens</th>\n",
       "    </tr>\n",
       "  </thead>\n",
       "  <tbody>\n",
       "    <tr>\n",
       "      <th>0</th>\n",
       "      <td>445412</td>\n",
       "      <td>709.0</td>\n",
       "      <td>1167493.0</td>\n",
       "      <td>5214.74</td>\n",
       "      <td>17.2</td>\n",
       "      <td>6</td>\n",
       "      <td>1</td>\n",
       "      <td>228190</td>\n",
       "      <td>416746.0</td>\n",
       "      <td>1.0</td>\n",
       "      <td>0.0</td>\n",
       "    </tr>\n",
       "    <tr>\n",
       "      <th>1</th>\n",
       "      <td>262328</td>\n",
       "      <td>NaN</td>\n",
       "      <td>NaN</td>\n",
       "      <td>33295.98</td>\n",
       "      <td>21.1</td>\n",
       "      <td>35</td>\n",
       "      <td>0</td>\n",
       "      <td>229976</td>\n",
       "      <td>850784.0</td>\n",
       "      <td>0.0</td>\n",
       "      <td>0.0</td>\n",
       "    </tr>\n",
       "    <tr>\n",
       "      <th>2</th>\n",
       "      <td>99999999</td>\n",
       "      <td>741.0</td>\n",
       "      <td>2231892.0</td>\n",
       "      <td>29200.53</td>\n",
       "      <td>14.9</td>\n",
       "      <td>18</td>\n",
       "      <td>1</td>\n",
       "      <td>297996</td>\n",
       "      <td>750090.0</td>\n",
       "      <td>0.0</td>\n",
       "      <td>0.0</td>\n",
       "    </tr>\n",
       "    <tr>\n",
       "      <th>3</th>\n",
       "      <td>347666</td>\n",
       "      <td>721.0</td>\n",
       "      <td>806949.0</td>\n",
       "      <td>8741.90</td>\n",
       "      <td>12.0</td>\n",
       "      <td>9</td>\n",
       "      <td>0</td>\n",
       "      <td>256329</td>\n",
       "      <td>386958.0</td>\n",
       "      <td>0.0</td>\n",
       "      <td>0.0</td>\n",
       "    </tr>\n",
       "    <tr>\n",
       "      <th>4</th>\n",
       "      <td>176220</td>\n",
       "      <td>NaN</td>\n",
       "      <td>NaN</td>\n",
       "      <td>20639.70</td>\n",
       "      <td>6.1</td>\n",
       "      <td>15</td>\n",
       "      <td>0</td>\n",
       "      <td>253460</td>\n",
       "      <td>427174.0</td>\n",
       "      <td>0.0</td>\n",
       "      <td>0.0</td>\n",
       "    </tr>\n",
       "  </tbody>\n",
       "</table>\n",
       "</div>"
      ],
      "text/plain": [
       "   Current Loan Amount  Credit Score  Annual Income  Monthly Debt  \\\n",
       "0               445412         709.0      1167493.0       5214.74   \n",
       "1               262328           NaN            NaN      33295.98   \n",
       "2             99999999         741.0      2231892.0      29200.53   \n",
       "3               347666         721.0       806949.0       8741.90   \n",
       "4               176220           NaN            NaN      20639.70   \n",
       "\n",
       "   Years of Credit History  Number of Open Accounts  \\\n",
       "0                     17.2                        6   \n",
       "1                     21.1                       35   \n",
       "2                     14.9                       18   \n",
       "3                     12.0                        9   \n",
       "4                      6.1                       15   \n",
       "\n",
       "   Number of Credit Problems  Current Credit Balance  Maximum Open Credit  \\\n",
       "0                          1                  228190             416746.0   \n",
       "1                          0                  229976             850784.0   \n",
       "2                          1                  297996             750090.0   \n",
       "3                          0                  256329             386958.0   \n",
       "4                          0                  253460             427174.0   \n",
       "\n",
       "   Bankruptcies  Tax Liens  \n",
       "0           1.0        0.0  \n",
       "1           0.0        0.0  \n",
       "2           0.0        0.0  \n",
       "3           0.0        0.0  \n",
       "4           0.0        0.0  "
      ]
     },
     "execution_count": 10,
     "metadata": {},
     "output_type": "execute_result"
    }
   ],
   "source": [
    "num.head()"
   ]
  },
  {
   "cell_type": "code",
   "execution_count": 11,
   "metadata": {},
   "outputs": [],
   "source": [
    "df['Credit Score'].fillna(0,inplace=True)"
   ]
  },
  {
   "cell_type": "code",
   "execution_count": 12,
   "metadata": {},
   "outputs": [],
   "source": [
    "df['Current Loan Amount'].fillna(value=df['Current Loan Amount'].median(),inplace=True)"
   ]
  },
  {
   "cell_type": "code",
   "execution_count": 13,
   "metadata": {},
   "outputs": [],
   "source": [
    "df['Annual Income'].fillna(value=df['Annual Income'].median(),inplace=True)"
   ]
  },
  {
   "cell_type": "code",
   "execution_count": 14,
   "metadata": {},
   "outputs": [],
   "source": [
    "df.dropna(axis=0,inplace=True)"
   ]
  },
  {
   "cell_type": "code",
   "execution_count": 15,
   "metadata": {},
   "outputs": [
    {
     "name": "stdout",
     "output_type": "stream",
     "text": [
      "   Loan Status_Charged Off  Loan Status_Fully Paid  Term_Long Term  \\\n",
      "0                        0                       1               0   \n",
      "1                        0                       1               0   \n",
      "2                        0                       1               0   \n",
      "3                        0                       1               1   \n",
      "4                        0                       1               0   \n",
      "5                        1                       0               0   \n",
      "6                        0                       1               0   \n",
      "7                        1                       0               1   \n",
      "8                        0                       1               0   \n",
      "9                        0                       1               0   \n",
      "\n",
      "   Term_Short Term  Years in current job_1 year  \\\n",
      "0                1                            0   \n",
      "1                1                            0   \n",
      "2                1                            0   \n",
      "3                0                            0   \n",
      "4                1                            0   \n",
      "5                1                            0   \n",
      "6                1                            0   \n",
      "7                0                            0   \n",
      "8                1                            0   \n",
      "9                1                            0   \n",
      "\n",
      "   Years in current job_10+ years  Years in current job_2 years  \\\n",
      "0                               0                             0   \n",
      "1                               1                             0   \n",
      "2                               0                             0   \n",
      "3                               0                             0   \n",
      "4                               0                             0   \n",
      "5                               1                             0   \n",
      "6                               0                             0   \n",
      "7                               0                             0   \n",
      "8                               0                             1   \n",
      "9                               0                             0   \n",
      "\n",
      "   Years in current job_3 years  Years in current job_4 years  \\\n",
      "0                             0                             0   \n",
      "1                             0                             0   \n",
      "2                             0                             0   \n",
      "3                             1                             0   \n",
      "4                             0                             0   \n",
      "5                             0                             0   \n",
      "6                             0                             0   \n",
      "7                             0                             0   \n",
      "8                             0                             0   \n",
      "9                             0                             0   \n",
      "\n",
      "   Years in current job_5 years  ...  Purpose_Medical Bills  Purpose_Other  \\\n",
      "0                             0  ...                      0              0   \n",
      "1                             0  ...                      0              0   \n",
      "2                             0  ...                      0              0   \n",
      "3                             0  ...                      0              0   \n",
      "4                             1  ...                      0              0   \n",
      "5                             0  ...                      0              0   \n",
      "6                             0  ...                      0              0   \n",
      "7                             0  ...                      0              0   \n",
      "8                             0  ...                      0              0   \n",
      "9                             0  ...                      0              0   \n",
      "\n",
      "   Purpose_Take a Trip  Purpose_major_purchase  Purpose_moving  Purpose_other  \\\n",
      "0                    0                       0               0              0   \n",
      "1                    0                       0               0              0   \n",
      "2                    0                       0               0              0   \n",
      "3                    0                       0               0              0   \n",
      "4                    0                       0               0              0   \n",
      "5                    0                       0               0              0   \n",
      "6                    0                       0               0              0   \n",
      "7                    0                       0               0              0   \n",
      "8                    0                       0               0              0   \n",
      "9                    0                       0               0              0   \n",
      "\n",
      "   Purpose_renewable_energy  Purpose_small_business  Purpose_vacation  \\\n",
      "0                         0                       0                 0   \n",
      "1                         0                       0                 0   \n",
      "2                         0                       0                 0   \n",
      "3                         0                       0                 0   \n",
      "4                         0                       0                 0   \n",
      "5                         0                       0                 0   \n",
      "6                         0                       0                 0   \n",
      "7                         0                       0                 0   \n",
      "8                         0                       0                 0   \n",
      "9                         0                       0                 0   \n",
      "\n",
      "   Purpose_wedding  \n",
      "0                0  \n",
      "1                0  \n",
      "2                0  \n",
      "3                0  \n",
      "4                0  \n",
      "5                0  \n",
      "6                0  \n",
      "7                0  \n",
      "8                0  \n",
      "9                0  \n",
      "\n",
      "[10 rows x 35 columns]\n"
     ]
    }
   ],
   "source": [
    "cat=pd.get_dummies(cat,dtype='int')\n",
    "print(cat.head(10))\n",
    "x=pd.concat([cat,num],axis=1)"
   ]
  },
  {
   "cell_type": "code",
   "execution_count": 16,
   "metadata": {},
   "outputs": [
    {
     "data": {
      "text/plain": [
       "Fully Paid     74257\n",
       "Charged Off    21315\n",
       "Name: Loan Status, dtype: int64"
      ]
     },
     "execution_count": 16,
     "metadata": {},
     "output_type": "execute_result"
    }
   ],
   "source": [
    "df['Loan Status'].value_counts()"
   ]
  },
  {
   "cell_type": "code",
   "execution_count": 17,
   "metadata": {},
   "outputs": [
    {
     "data": {
      "text/plain": [
       "0         Fully Paid\n",
       "1         Fully Paid\n",
       "2         Fully Paid\n",
       "3         Fully Paid\n",
       "4         Fully Paid\n",
       "5        Charged Off\n",
       "6         Fully Paid\n",
       "7        Charged Off\n",
       "8         Fully Paid\n",
       "9         Fully Paid\n",
       "10        Fully Paid\n",
       "11        Fully Paid\n",
       "12        Fully Paid\n",
       "13        Fully Paid\n",
       "14        Fully Paid\n",
       "15        Fully Paid\n",
       "16       Charged Off\n",
       "17        Fully Paid\n",
       "18        Fully Paid\n",
       "19        Fully Paid\n",
       "20       Charged Off\n",
       "21        Fully Paid\n",
       "22       Charged Off\n",
       "23        Fully Paid\n",
       "24        Fully Paid\n",
       "25        Fully Paid\n",
       "26        Fully Paid\n",
       "27        Fully Paid\n",
       "28        Fully Paid\n",
       "30        Fully Paid\n",
       "            ...     \n",
       "99969     Fully Paid\n",
       "99970     Fully Paid\n",
       "99971     Fully Paid\n",
       "99972     Fully Paid\n",
       "99973     Fully Paid\n",
       "99974     Fully Paid\n",
       "99975    Charged Off\n",
       "99976     Fully Paid\n",
       "99977     Fully Paid\n",
       "99978     Fully Paid\n",
       "99979     Fully Paid\n",
       "99980     Fully Paid\n",
       "99981    Charged Off\n",
       "99982     Fully Paid\n",
       "99983     Fully Paid\n",
       "99984     Fully Paid\n",
       "99985     Fully Paid\n",
       "99986     Fully Paid\n",
       "99987     Fully Paid\n",
       "99988    Charged Off\n",
       "99989    Charged Off\n",
       "99990     Fully Paid\n",
       "99991     Fully Paid\n",
       "99992     Fully Paid\n",
       "99993     Fully Paid\n",
       "99994     Fully Paid\n",
       "99995     Fully Paid\n",
       "99996     Fully Paid\n",
       "99997     Fully Paid\n",
       "99998     Fully Paid\n",
       "Name: Loan Status, Length: 95572, dtype: object"
      ]
     },
     "execution_count": 17,
     "metadata": {},
     "output_type": "execute_result"
    }
   ],
   "source": [
    "df['Loan Status']"
   ]
  },
  {
   "cell_type": "code",
   "execution_count": 18,
   "metadata": {},
   "outputs": [
    {
     "data": {
      "text/plain": [
       "<matplotlib.axes._subplots.AxesSubplot at 0x121e6830>"
      ]
     },
     "execution_count": 18,
     "metadata": {},
     "output_type": "execute_result"
    },
    {
     "data": {
      "image/png": "[encoded data removed]",
      "text/plain": [
       "<Figure size 720x504 with 1 Axes>"
      ]
     },
     "metadata": {
      "needs_background": "light"
     },
     "output_type": "display_data"
    }
   ],
   "source": [
    "df['Loan Status'].value_counts().plot(kind='bar',grid=True,figsize=(10,7))"
   ]
  },
  {
   "cell_type": "code",
   "execution_count": 19,
   "metadata": {},
   "outputs": [
    {
     "name": "stderr",
     "output_type": "stream",
     "text": [
      "C:\\Users\\Karthik\\Anaconda3\\lib\\site-packages\\ipykernel_launcher.py:1: FutureWarning: convert_objects is deprecated.  To re-infer data dtypes for object columns, use Series.infer_objects()\n",
      "For all other conversions use the data-type specific converters pd.to_datetime, pd.to_timedelta and pd.to_numeric.\n",
      "  \"\"\"Entry point for launching an IPython kernel.\n"
     ]
    }
   ],
   "source": [
    "df['Term']=df.Term.convert_objects(convert_numeric=True)"
   ]
  },
  {
   "cell_type": "code",
   "execution_count": 20,
   "metadata": {},
   "outputs": [],
   "source": [
    "import seaborn as sns\n",
    "def heatMap(df):\n",
    "    corr = df.corr()\n",
    "    fig, ax = plt.subplots(figsize=(10, 7))\n",
    "    sns.heatmap(corr, annot=True, fmt=\".2f\")\n",
    "    plt.xticks(range(len(corr.columns)), corr.columns);\n",
    "    plt.yticks(range(len(corr.columns)), corr.columns)\n",
    "    plt.show()"
   ]
  },
  {
   "cell_type": "code",
   "execution_count": 21,
   "metadata": {},
   "outputs": [
    {
     "data": {
      "image/png": "[encoded data removed]",
      "text/plain": [
       "<Figure size 720x504 with 2 Axes>"
      ]
     },
     "metadata": {
      "needs_background": "light"
     },
     "output_type": "display_data"
    }
   ],
   "source": [
    "heatMap(df)"
   ]
  },
  {
   "cell_type": "code",
   "execution_count": 22,
   "metadata": {},
   "outputs": [
    {
     "name": "stdout",
     "output_type": "stream",
     "text": [
      "0.0\n",
      "7510.0\n",
      "717.0\n"
     ]
    }
   ],
   "source": [
    "print(df['Credit Score'].min())\n",
    "print(df['Credit Score'].max())\n",
    "print(df['Credit Score'].median())"
   ]
  },
  {
   "cell_type": "code",
   "execution_count": 23,
   "metadata": {},
   "outputs": [],
   "source": [
    "df['Credit Score_range']=pd.cut(df['Credit Score'],[500,1000,1500,2000,2500,3000,3500,4000,4500,5000,5500,6000,6500,7000,7510],right=True)"
   ]
  },
  {
   "cell_type": "code",
   "execution_count": 24,
   "metadata": {},
   "outputs": [
    {
     "data": {
      "text/plain": [
       "Index(['Loan Status', 'Current Loan Amount', 'Term', 'Credit Score',\n",
       "       'Annual Income', 'Years in current job', 'Home Ownership', 'Purpose',\n",
       "       'Monthly Debt', 'Years of Credit History', 'Number of Open Accounts',\n",
       "       'Number of Credit Problems', 'Current Credit Balance',\n",
       "       'Maximum Open Credit', 'Bankruptcies', 'Tax Liens',\n",
       "       'Credit Score_range'],\n",
       "      dtype='object')"
      ]
     },
     "execution_count": 24,
     "metadata": {},
     "output_type": "execute_result"
    }
   ],
   "source": [
    "df.columns"
   ]
  },
  {
   "cell_type": "code",
   "execution_count": 25,
   "metadata": {},
   "outputs": [
    {
     "data": {
      "image/png": "[encoded data removed]",
      "text/plain": [
       "<Figure size 432x288 with 1 Axes>"
      ]
     },
     "metadata": {
      "needs_background": "light"
     },
     "output_type": "display_data"
    }
   ],
   "source": [
    "LS_CSR=df.groupby(['Credit Score_range'])['Loan Status'].size().plot(kind='bar',stacked=True)\n",
    "LS_CSR.set_ylabel('Loan Status')\n",
    "LS_CSR.set_xlabel('Credit Score_range')\n",
    "\n",
    "for i in LS_CSR.patches:\n",
    "    width, height = i.get_width(), i.get_height()\n",
    "    x, y =i.get_xy() \n",
    "    LS_CSR.annotate('{:.0f}%'.format(height), (i.get_x()+.40*width, i.get_y()+.3*height),\n",
    "                color = 'black')"
   ]
  },
  {
   "cell_type": "code",
   "execution_count": 26,
   "metadata": {},
   "outputs": [
    {
     "data": {
      "text/plain": [
       "Index(['Loan Status', 'Current Loan Amount', 'Term', 'Credit Score',\n",
       "       'Annual Income', 'Years in current job', 'Home Ownership', 'Purpose',\n",
       "       'Monthly Debt', 'Years of Credit History', 'Number of Open Accounts',\n",
       "       'Number of Credit Problems', 'Current Credit Balance',\n",
       "       'Maximum Open Credit', 'Bankruptcies', 'Tax Liens',\n",
       "       'Credit Score_range'],\n",
       "      dtype='object')"
      ]
     },
     "execution_count": 26,
     "metadata": {},
     "output_type": "execute_result"
    }
   ],
   "source": [
    "df.columns"
   ]
  },
  {
   "cell_type": "code",
   "execution_count": 27,
   "metadata": {},
   "outputs": [
    {
     "data": {
      "text/plain": [
       "<matplotlib.axes._subplots.AxesSubplot at 0x14f42c10>"
      ]
     },
     "execution_count": 27,
     "metadata": {},
     "output_type": "execute_result"
    },
    {
     "data": {
      "image/png": "[encoded data removed]",
      "text/plain": [
       "<Figure size 432x288 with 1 Axes>"
      ]
     },
     "metadata": {
      "needs_background": "light"
     },
     "output_type": "display_data"
    }
   ],
   "source": [
    "df.groupby(['Purpose','Loan Status']).size().unstack().plot(kind='bar',grid=True)"
   ]
  },
  {
   "cell_type": "code",
   "execution_count": 28,
   "metadata": {},
   "outputs": [
    {
     "data": {
      "text/plain": [
       "<matplotlib.axes._subplots.AxesSubplot at 0x12a80f30>"
      ]
     },
     "execution_count": 28,
     "metadata": {},
     "output_type": "execute_result"
    },
    {
     "data": {
      "image/png": "[encoded data removed]",
      "text/plain": [
       "<Figure size 432x288 with 1 Axes>"
      ]
     },
     "metadata": {
      "needs_background": "light"
     },
     "output_type": "display_data"
    }
   ],
   "source": [
    "df.groupby(['Home Ownership','Loan Status']).size().unstack().plot(kind='bar',grid=True)"
   ]
  },
  {
   "cell_type": "code",
   "execution_count": 29,
   "metadata": {},
   "outputs": [
    {
     "name": "stdout",
     "output_type": "stream",
     "text": [
      "76627.0\n",
      "165557393.0\n",
      "1174162.0\n"
     ]
    }
   ],
   "source": [
    "print(df['Annual Income'].min())\n",
    "print(df['Annual Income'].max())\n",
    "print(df['Annual Income'].median())"
   ]
  },
  {
   "cell_type": "code",
   "execution_count": 30,
   "metadata": {},
   "outputs": [],
   "source": [
    "df['Annual Income Range']=pd.cut(df['Annual Income'],[50000,250000,500000,1000000,2000000,5000000,200000000],\n",
    "                                 labels=['Poor','Working Class','Lower Middle Class','Middle Class','Upper Middle Class','High Class'],\n",
    "                                 right=True)"
   ]
  },
  {
   "cell_type": "code",
   "execution_count": 31,
   "metadata": {},
   "outputs": [
    {
     "data": {
      "text/plain": [
       "<matplotlib.axes._subplots.AxesSubplot at 0x1448ec50>"
      ]
     },
     "execution_count": 31,
     "metadata": {},
     "output_type": "execute_result"
    },
    {
     "data": {
      "image/png": "[encoded data removed]",
      "text/plain": [
       "<Figure size 432x288 with 1 Axes>"
      ]
     },
     "metadata": {
      "needs_background": "light"
     },
     "output_type": "display_data"
    }
   ],
   "source": [
    "df['Annual Income Range'].value_counts().plot(kind='bar',grid=True)"
   ]
  },
  {
   "cell_type": "code",
   "execution_count": 32,
   "metadata": {},
   "outputs": [
    {
     "name": "stdout",
     "output_type": "stream",
     "text": [
      "76627.0\n",
      "165557393.0\n"
     ]
    }
   ],
   "source": [
    "print(df['Annual Income'].min())\n",
    "print(df['Annual Income'].max())"
   ]
  },
  {
   "cell_type": "code",
   "execution_count": 33,
   "metadata": {},
   "outputs": [
    {
     "data": {
      "text/plain": [
       "<matplotlib.axes._subplots.AxesSubplot at 0x12fe6af0>"
      ]
     },
     "execution_count": 33,
     "metadata": {},
     "output_type": "execute_result"
    },
    {
     "data": {
      "image/png": "[encoded data removed]",
      "text/plain": [
       "<Figure size 432x288 with 1 Axes>"
      ]
     },
     "metadata": {
      "needs_background": "light"
     },
     "output_type": "display_data"
    }
   ],
   "source": [
    "df.groupby(['Loan Status']).size().plot(kind='bar')"
   ]
  },
  {
   "cell_type": "code",
   "execution_count": 34,
   "metadata": {},
   "outputs": [
    {
     "data": {
      "text/plain": [
       "<matplotlib.axes._subplots.AxesSubplot at 0x1447dbf0>"
      ]
     },
     "execution_count": 34,
     "metadata": {},
     "output_type": "execute_result"
    },
    {
     "data": {
      "image/png": "[encoded data removed]",
      "text/plain": [
       "<Figure size 432x288 with 1 Axes>"
      ]
     },
     "metadata": {
      "needs_background": "light"
     },
     "output_type": "display_data"
    }
   ],
   "source": [
    "df.groupby(['Term','Loan Status']).size().unstack().plot(kind='bar',grid=True)"
   ]
  },
  {
   "cell_type": "code",
   "execution_count": 35,
   "metadata": {},
   "outputs": [
    {
     "data": {
      "text/html": [
       "<div>\n",
       "<style scoped>\n",
       "    .dataframe tbody tr th:only-of-type {\n",
       "        vertical-align: middle;\n",
       "    }\n",
       "\n",
       "    .dataframe tbody tr th {\n",
       "        vertical-align: top;\n",
       "    }\n",
       "\n",
       "    .dataframe thead th {\n",
       "        text-align: right;\n",
       "    }\n",
       "</style>\n",
       "<table border=\"1\" class=\"dataframe\">\n",
       "  <thead>\n",
       "    <tr style=\"text-align: right;\">\n",
       "      <th></th>\n",
       "      <th>Annual Income</th>\n",
       "      <th>Bankruptcies</th>\n",
       "      <th>Credit Score</th>\n",
       "      <th>Current Credit Balance</th>\n",
       "      <th>Current Loan Amount</th>\n",
       "      <th>Maximum Open Credit</th>\n",
       "      <th>Monthly Debt</th>\n",
       "      <th>Number of Credit Problems</th>\n",
       "      <th>Number of Open Accounts</th>\n",
       "      <th>Tax Liens</th>\n",
       "      <th>Years of Credit History</th>\n",
       "    </tr>\n",
       "    <tr>\n",
       "      <th>Loan Status</th>\n",
       "      <th></th>\n",
       "      <th></th>\n",
       "      <th></th>\n",
       "      <th></th>\n",
       "      <th></th>\n",
       "      <th></th>\n",
       "      <th></th>\n",
       "      <th></th>\n",
       "      <th></th>\n",
       "      <th></th>\n",
       "      <th></th>\n",
       "    </tr>\n",
       "  </thead>\n",
       "  <tbody>\n",
       "    <tr>\n",
       "      <th>Charged Off</th>\n",
       "      <td>1.264890e+06</td>\n",
       "      <td>0.107811</td>\n",
       "      <td>1828.897209</td>\n",
       "      <td>291206.686277</td>\n",
       "      <td>3.301956e+05</td>\n",
       "      <td>631571.442083</td>\n",
       "      <td>18972.324350</td>\n",
       "      <td>0.163734</td>\n",
       "      <td>11.327703</td>\n",
       "      <td>0.033967</td>\n",
       "      <td>17.607821</td>\n",
       "    </tr>\n",
       "    <tr>\n",
       "      <th>Fully Paid</th>\n",
       "      <td>1.382277e+06</td>\n",
       "      <td>0.114548</td>\n",
       "      <td>590.287461</td>\n",
       "      <td>298631.019419</td>\n",
       "      <td>1.511723e+07</td>\n",
       "      <td>797646.462933</td>\n",
       "      <td>18644.665921</td>\n",
       "      <td>0.162261</td>\n",
       "      <td>11.144310</td>\n",
       "      <td>0.026880</td>\n",
       "      <td>18.105194</td>\n",
       "    </tr>\n",
       "  </tbody>\n",
       "</table>\n",
       "</div>"
      ],
      "text/plain": [
       "             Annual Income  Bankruptcies  Credit Score  \\\n",
       "Loan Status                                              \n",
       "Charged Off   1.264890e+06      0.107811   1828.897209   \n",
       "Fully Paid    1.382277e+06      0.114548    590.287461   \n",
       "\n",
       "             Current Credit Balance  Current Loan Amount  Maximum Open Credit  \\\n",
       "Loan Status                                                                     \n",
       "Charged Off           291206.686277         3.301956e+05        631571.442083   \n",
       "Fully Paid            298631.019419         1.511723e+07        797646.462933   \n",
       "\n",
       "             Monthly Debt  Number of Credit Problems  Number of Open Accounts  \\\n",
       "Loan Status                                                                     \n",
       "Charged Off  18972.324350                   0.163734                11.327703   \n",
       "Fully Paid   18644.665921                   0.162261                11.144310   \n",
       "\n",
       "             Tax Liens  Years of Credit History  \n",
       "Loan Status                                      \n",
       "Charged Off   0.033967                17.607821  \n",
       "Fully Paid    0.026880                18.105194  "
      ]
     },
     "execution_count": 35,
     "metadata": {},
     "output_type": "execute_result"
    }
   ],
   "source": [
    "df.pivot_table(index='Loan Status',aggfunc='mean',dropna=True)"
   ]
  },
  {
   "cell_type": "code",
   "execution_count": 36,
   "metadata": {},
   "outputs": [
    {
     "name": "stdout",
     "output_type": "stream",
     "text": [
      "0.0\n",
      "7510.0\n",
      "717.0\n"
     ]
    }
   ],
   "source": [
    "print(df['Credit Score'].min())\n",
    "print(df['Credit Score'].max())\n",
    "print(df['Credit Score'].median())"
   ]
  },
  {
   "cell_type": "code",
   "execution_count": 37,
   "metadata": {},
   "outputs": [],
   "source": [
    "def mapping(df):\n",
    "    if df>=717:\n",
    "        return 'Low Risky'\n",
    "    else:\n",
    "        return 'High Risky'"
   ]
  },
  {
   "cell_type": "code",
   "execution_count": 38,
   "metadata": {},
   "outputs": [],
   "source": [
    "df['Loan Risky']=df['Credit Score'].apply(mapping)"
   ]
  },
  {
   "cell_type": "code",
   "execution_count": 39,
   "metadata": {},
   "outputs": [
    {
     "data": {
      "text/plain": [
       "array([ 6, 35, 18,  9, 15, 13,  4, 20, 16, 23, 10,  8,  7, 12, 17, 14, 11,\n",
       "       34, 22,  5, 19,  2, 32, 21,  3, 25, 24, 43,  1, 30, 27, 26, 28, 36,\n",
       "       31, 29, 45, 37, 33, 38, 40, 41, 47, 48, 39,  0, 56, 42, 44, 52, 76],\n",
       "      dtype=int64)"
      ]
     },
     "execution_count": 39,
     "metadata": {},
     "output_type": "execute_result"
    }
   ],
   "source": [
    "df['Number of Open Accounts'].unique()"
   ]
  },
  {
   "cell_type": "code",
   "execution_count": 40,
   "metadata": {},
   "outputs": [
    {
     "data": {
      "text/plain": [
       "<matplotlib.axes._subplots.AxesSubplot at 0x12ccf970>"
      ]
     },
     "execution_count": 40,
     "metadata": {},
     "output_type": "execute_result"
    },
    {
     "data": {
      "image/png": "[encoded data removed]",
      "text/plain": [
       "<Figure size 1080x504 with 1 Axes>"
      ]
     },
     "metadata": {
      "needs_background": "light"
     },
     "output_type": "display_data"
    }
   ],
   "source": [
    "df.groupby(['Number of Open Accounts','Loan Risky']).size().unstack().plot(kind='bar',grid=True,figsize=(15,7))"
   ]
  },
  {
   "cell_type": "code",
   "execution_count": 41,
   "metadata": {},
   "outputs": [
    {
     "data": {
      "text/plain": [
       "<matplotlib.axes._subplots.AxesSubplot at 0x12d9ba50>"
      ]
     },
     "execution_count": 41,
     "metadata": {},
     "output_type": "execute_result"
    },
    {
     "data": {
      "image/png": "[encoded data removed]",
      "text/plain": [
       "<Figure size 432x288 with 1 Axes>"
      ]
     },
     "metadata": {
      "needs_background": "light"
     },
     "output_type": "display_data"
    }
   ],
   "source": [
    "df.groupby(['Loan Risky']).size().plot(kind='bar',grid=True)"
   ]
  },
  {
   "cell_type": "code",
   "execution_count": 42,
   "metadata": {},
   "outputs": [],
   "source": [
    "test_data=df[df['Credit Score']==0]\n",
    "train_data=df[df['Credit Score']!=0]"
   ]
  },
  {
   "cell_type": "code",
   "execution_count": 43,
   "metadata": {},
   "outputs": [
    {
     "name": "stdout",
     "output_type": "stream",
     "text": [
      "(18301, 19) (77271, 19)\n"
     ]
    }
   ],
   "source": [
    "print(test_data.shape,train_data.shape)"
   ]
  },
  {
   "cell_type": "code",
   "execution_count": 44,
   "metadata": {},
   "outputs": [
    {
     "name": "stderr",
     "output_type": "stream",
     "text": [
      "C:\\Users\\Karthik\\Anaconda3\\lib\\site-packages\\pandas\\core\\frame.py:3940: SettingWithCopyWarning: \n",
      "A value is trying to be set on a copy of a slice from a DataFrame\n",
      "\n",
      "See the caveats in the documentation: http://pandas.pydata.org/pandas-docs/stable/indexing.html#indexing-view-versus-copy\n",
      "  errors=errors)\n"
     ]
    }
   ],
   "source": [
    "train_data.drop('Loan Status',axis=1,inplace=True)"
   ]
  },
  {
   "cell_type": "code",
   "execution_count": 45,
   "metadata": {},
   "outputs": [
    {
     "data": {
      "text/plain": [
       "Index(['Current Loan Amount', 'Term', 'Credit Score', 'Annual Income',\n",
       "       'Years in current job', 'Home Ownership', 'Purpose', 'Monthly Debt',\n",
       "       'Years of Credit History', 'Number of Open Accounts',\n",
       "       'Number of Credit Problems', 'Current Credit Balance',\n",
       "       'Maximum Open Credit', 'Bankruptcies', 'Tax Liens',\n",
       "       'Credit Score_range', 'Annual Income Range', 'Loan Risky'],\n",
       "      dtype='object')"
      ]
     },
     "execution_count": 45,
     "metadata": {},
     "output_type": "execute_result"
    }
   ],
   "source": [
    "train_data.columns"
   ]
  },
  {
   "cell_type": "code",
   "execution_count": 46,
   "metadata": {},
   "outputs": [],
   "source": [
    "loan_train_y=train_data['Credit Score']\n",
    "loan_train_x=train_data[['Current Loan Amount',\n",
    "        'Annual Income', 'Years in current job', 'Monthly Debt', 'Years of Credit History',\n",
    "       'Number of Open Accounts','Bankruptcies',\n",
    "       'Current Credit Balance',\n",
    "       'Tax Liens']]"
   ]
  },
  {
   "cell_type": "code",
   "execution_count": 47,
   "metadata": {},
   "outputs": [],
   "source": [
    "loan_cat=loan_train_x.select_dtypes(include='object')\n",
    "loan_num=loan_train_x.select_dtypes(include='number')"
   ]
  },
  {
   "cell_type": "code",
   "execution_count": 48,
   "metadata": {},
   "outputs": [],
   "source": [
    "loan_cat=pd.get_dummies(loan_cat)\n",
    "loan_train_x=pd.concat([loan_cat,loan_num],axis=1)"
   ]
  },
  {
   "cell_type": "code",
   "execution_count": 49,
   "metadata": {},
   "outputs": [
    {
     "data": {
      "text/html": [
       "<div>\n",
       "<style scoped>\n",
       "    .dataframe tbody tr th:only-of-type {\n",
       "        vertical-align: middle;\n",
       "    }\n",
       "\n",
       "    .dataframe tbody tr th {\n",
       "        vertical-align: top;\n",
       "    }\n",
       "\n",
       "    .dataframe thead th {\n",
       "        text-align: right;\n",
       "    }\n",
       "</style>\n",
       "<table border=\"1\" class=\"dataframe\">\n",
       "  <thead>\n",
       "    <tr style=\"text-align: right;\">\n",
       "      <th></th>\n",
       "      <th>Years in current job_1 year</th>\n",
       "      <th>Years in current job_10+ years</th>\n",
       "      <th>Years in current job_2 years</th>\n",
       "      <th>Years in current job_3 years</th>\n",
       "      <th>Years in current job_4 years</th>\n",
       "      <th>Years in current job_5 years</th>\n",
       "      <th>Years in current job_6 years</th>\n",
       "      <th>Years in current job_7 years</th>\n",
       "      <th>Years in current job_8 years</th>\n",
       "      <th>Years in current job_9 years</th>\n",
       "      <th>Years in current job_&lt; 1 year</th>\n",
       "      <th>Current Loan Amount</th>\n",
       "      <th>Annual Income</th>\n",
       "      <th>Monthly Debt</th>\n",
       "      <th>Years of Credit History</th>\n",
       "      <th>Number of Open Accounts</th>\n",
       "      <th>Bankruptcies</th>\n",
       "      <th>Current Credit Balance</th>\n",
       "      <th>Tax Liens</th>\n",
       "    </tr>\n",
       "  </thead>\n",
       "  <tbody>\n",
       "    <tr>\n",
       "      <th>0</th>\n",
       "      <td>0</td>\n",
       "      <td>0</td>\n",
       "      <td>0</td>\n",
       "      <td>0</td>\n",
       "      <td>0</td>\n",
       "      <td>0</td>\n",
       "      <td>0</td>\n",
       "      <td>0</td>\n",
       "      <td>1</td>\n",
       "      <td>0</td>\n",
       "      <td>0</td>\n",
       "      <td>445412</td>\n",
       "      <td>1167493.0</td>\n",
       "      <td>5214.74</td>\n",
       "      <td>17.2</td>\n",
       "      <td>6</td>\n",
       "      <td>1.0</td>\n",
       "      <td>228190</td>\n",
       "      <td>0.0</td>\n",
       "    </tr>\n",
       "    <tr>\n",
       "      <th>2</th>\n",
       "      <td>0</td>\n",
       "      <td>0</td>\n",
       "      <td>0</td>\n",
       "      <td>0</td>\n",
       "      <td>0</td>\n",
       "      <td>0</td>\n",
       "      <td>0</td>\n",
       "      <td>0</td>\n",
       "      <td>1</td>\n",
       "      <td>0</td>\n",
       "      <td>0</td>\n",
       "      <td>99999999</td>\n",
       "      <td>2231892.0</td>\n",
       "      <td>29200.53</td>\n",
       "      <td>14.9</td>\n",
       "      <td>18</td>\n",
       "      <td>0.0</td>\n",
       "      <td>297996</td>\n",
       "      <td>0.0</td>\n",
       "    </tr>\n",
       "    <tr>\n",
       "      <th>3</th>\n",
       "      <td>0</td>\n",
       "      <td>0</td>\n",
       "      <td>0</td>\n",
       "      <td>1</td>\n",
       "      <td>0</td>\n",
       "      <td>0</td>\n",
       "      <td>0</td>\n",
       "      <td>0</td>\n",
       "      <td>0</td>\n",
       "      <td>0</td>\n",
       "      <td>0</td>\n",
       "      <td>347666</td>\n",
       "      <td>806949.0</td>\n",
       "      <td>8741.90</td>\n",
       "      <td>12.0</td>\n",
       "      <td>9</td>\n",
       "      <td>0.0</td>\n",
       "      <td>256329</td>\n",
       "      <td>0.0</td>\n",
       "    </tr>\n",
       "    <tr>\n",
       "      <th>5</th>\n",
       "      <td>0</td>\n",
       "      <td>1</td>\n",
       "      <td>0</td>\n",
       "      <td>0</td>\n",
       "      <td>0</td>\n",
       "      <td>0</td>\n",
       "      <td>0</td>\n",
       "      <td>0</td>\n",
       "      <td>0</td>\n",
       "      <td>0</td>\n",
       "      <td>0</td>\n",
       "      <td>206602</td>\n",
       "      <td>896857.0</td>\n",
       "      <td>16367.74</td>\n",
       "      <td>17.3</td>\n",
       "      <td>6</td>\n",
       "      <td>0.0</td>\n",
       "      <td>215308</td>\n",
       "      <td>0.0</td>\n",
       "    </tr>\n",
       "    <tr>\n",
       "      <th>6</th>\n",
       "      <td>0</td>\n",
       "      <td>0</td>\n",
       "      <td>0</td>\n",
       "      <td>0</td>\n",
       "      <td>0</td>\n",
       "      <td>0</td>\n",
       "      <td>0</td>\n",
       "      <td>0</td>\n",
       "      <td>0</td>\n",
       "      <td>0</td>\n",
       "      <td>1</td>\n",
       "      <td>217646</td>\n",
       "      <td>1184194.0</td>\n",
       "      <td>10855.08</td>\n",
       "      <td>19.6</td>\n",
       "      <td>13</td>\n",
       "      <td>1.0</td>\n",
       "      <td>122170</td>\n",
       "      <td>0.0</td>\n",
       "    </tr>\n",
       "    <tr>\n",
       "      <th>8</th>\n",
       "      <td>0</td>\n",
       "      <td>0</td>\n",
       "      <td>1</td>\n",
       "      <td>0</td>\n",
       "      <td>0</td>\n",
       "      <td>0</td>\n",
       "      <td>0</td>\n",
       "      <td>0</td>\n",
       "      <td>0</td>\n",
       "      <td>0</td>\n",
       "      <td>0</td>\n",
       "      <td>548746</td>\n",
       "      <td>2559110.0</td>\n",
       "      <td>18660.28</td>\n",
       "      <td>22.6</td>\n",
       "      <td>4</td>\n",
       "      <td>0.0</td>\n",
       "      <td>437171</td>\n",
       "      <td>0.0</td>\n",
       "    </tr>\n",
       "    <tr>\n",
       "      <th>9</th>\n",
       "      <td>0</td>\n",
       "      <td>0</td>\n",
       "      <td>0</td>\n",
       "      <td>0</td>\n",
       "      <td>0</td>\n",
       "      <td>0</td>\n",
       "      <td>0</td>\n",
       "      <td>0</td>\n",
       "      <td>0</td>\n",
       "      <td>0</td>\n",
       "      <td>1</td>\n",
       "      <td>215952</td>\n",
       "      <td>1454735.0</td>\n",
       "      <td>39277.75</td>\n",
       "      <td>13.9</td>\n",
       "      <td>20</td>\n",
       "      <td>0.0</td>\n",
       "      <td>669560</td>\n",
       "      <td>0.0</td>\n",
       "    </tr>\n",
       "    <tr>\n",
       "      <th>10</th>\n",
       "      <td>0</td>\n",
       "      <td>0</td>\n",
       "      <td>0</td>\n",
       "      <td>1</td>\n",
       "      <td>0</td>\n",
       "      <td>0</td>\n",
       "      <td>0</td>\n",
       "      <td>0</td>\n",
       "      <td>0</td>\n",
       "      <td>0</td>\n",
       "      <td>0</td>\n",
       "      <td>99999999</td>\n",
       "      <td>714628.0</td>\n",
       "      <td>11851.06</td>\n",
       "      <td>16.0</td>\n",
       "      <td>16</td>\n",
       "      <td>0.0</td>\n",
       "      <td>203965</td>\n",
       "      <td>0.0</td>\n",
       "    </tr>\n",
       "    <tr>\n",
       "      <th>12</th>\n",
       "      <td>0</td>\n",
       "      <td>0</td>\n",
       "      <td>0</td>\n",
       "      <td>0</td>\n",
       "      <td>0</td>\n",
       "      <td>0</td>\n",
       "      <td>0</td>\n",
       "      <td>0</td>\n",
       "      <td>0</td>\n",
       "      <td>0</td>\n",
       "      <td>1</td>\n",
       "      <td>99999999</td>\n",
       "      <td>776188.0</td>\n",
       "      <td>11578.22</td>\n",
       "      <td>8.5</td>\n",
       "      <td>6</td>\n",
       "      <td>0.0</td>\n",
       "      <td>134083</td>\n",
       "      <td>0.0</td>\n",
       "    </tr>\n",
       "    <tr>\n",
       "      <th>13</th>\n",
       "      <td>0</td>\n",
       "      <td>0</td>\n",
       "      <td>0</td>\n",
       "      <td>0</td>\n",
       "      <td>1</td>\n",
       "      <td>0</td>\n",
       "      <td>0</td>\n",
       "      <td>0</td>\n",
       "      <td>0</td>\n",
       "      <td>0</td>\n",
       "      <td>0</td>\n",
       "      <td>99999999</td>\n",
       "      <td>1560907.0</td>\n",
       "      <td>17560.37</td>\n",
       "      <td>13.3</td>\n",
       "      <td>10</td>\n",
       "      <td>1.0</td>\n",
       "      <td>225549</td>\n",
       "      <td>0.0</td>\n",
       "    </tr>\n",
       "  </tbody>\n",
       "</table>\n",
       "</div>"
      ],
      "text/plain": [
       "    Years in current job_1 year  Years in current job_10+ years  \\\n",
       "0                             0                               0   \n",
       "2                             0                               0   \n",
       "3                             0                               0   \n",
       "5                             0                               1   \n",
       "6                             0                               0   \n",
       "8                             0                               0   \n",
       "9                             0                               0   \n",
       "10                            0                               0   \n",
       "12                            0                               0   \n",
       "13                            0                               0   \n",
       "\n",
       "    Years in current job_2 years  Years in current job_3 years  \\\n",
       "0                              0                             0   \n",
       "2                              0                             0   \n",
       "3                              0                             1   \n",
       "5                              0                             0   \n",
       "6                              0                             0   \n",
       "8                              1                             0   \n",
       "9                              0                             0   \n",
       "10                             0                             1   \n",
       "12                             0                             0   \n",
       "13                             0                             0   \n",
       "\n",
       "    Years in current job_4 years  Years in current job_5 years  \\\n",
       "0                              0                             0   \n",
       "2                              0                             0   \n",
       "3                              0                             0   \n",
       "5                              0                             0   \n",
       "6                              0                             0   \n",
       "8                              0                             0   \n",
       "9                              0                             0   \n",
       "10                             0                             0   \n",
       "12                             0                             0   \n",
       "13                             1                             0   \n",
       "\n",
       "    Years in current job_6 years  Years in current job_7 years  \\\n",
       "0                              0                             0   \n",
       "2                              0                             0   \n",
       "3                              0                             0   \n",
       "5                              0                             0   \n",
       "6                              0                             0   \n",
       "8                              0                             0   \n",
       "9                              0                             0   \n",
       "10                             0                             0   \n",
       "12                             0                             0   \n",
       "13                             0                             0   \n",
       "\n",
       "    Years in current job_8 years  Years in current job_9 years  \\\n",
       "0                              1                             0   \n",
       "2                              1                             0   \n",
       "3                              0                             0   \n",
       "5                              0                             0   \n",
       "6                              0                             0   \n",
       "8                              0                             0   \n",
       "9                              0                             0   \n",
       "10                             0                             0   \n",
       "12                             0                             0   \n",
       "13                             0                             0   \n",
       "\n",
       "    Years in current job_< 1 year  Current Loan Amount  Annual Income  \\\n",
       "0                               0               445412      1167493.0   \n",
       "2                               0             99999999      2231892.0   \n",
       "3                               0               347666       806949.0   \n",
       "5                               0               206602       896857.0   \n",
       "6                               1               217646      1184194.0   \n",
       "8                               0               548746      2559110.0   \n",
       "9                               1               215952      1454735.0   \n",
       "10                              0             99999999       714628.0   \n",
       "12                              1             99999999       776188.0   \n",
       "13                              0             99999999      1560907.0   \n",
       "\n",
       "    Monthly Debt  Years of Credit History  Number of Open Accounts  \\\n",
       "0        5214.74                     17.2                        6   \n",
       "2       29200.53                     14.9                       18   \n",
       "3        8741.90                     12.0                        9   \n",
       "5       16367.74                     17.3                        6   \n",
       "6       10855.08                     19.6                       13   \n",
       "8       18660.28                     22.6                        4   \n",
       "9       39277.75                     13.9                       20   \n",
       "10      11851.06                     16.0                       16   \n",
       "12      11578.22                      8.5                        6   \n",
       "13      17560.37                     13.3                       10   \n",
       "\n",
       "    Bankruptcies  Current Credit Balance  Tax Liens  \n",
       "0            1.0                  228190        0.0  \n",
       "2            0.0                  297996        0.0  \n",
       "3            0.0                  256329        0.0  \n",
       "5            0.0                  215308        0.0  \n",
       "6            1.0                  122170        0.0  \n",
       "8            0.0                  437171        0.0  \n",
       "9            0.0                  669560        0.0  \n",
       "10           0.0                  203965        0.0  \n",
       "12           0.0                  134083        0.0  \n",
       "13           1.0                  225549        0.0  "
      ]
     },
     "execution_count": 49,
     "metadata": {},
     "output_type": "execute_result"
    }
   ],
   "source": [
    "loan_train_x.head(10)"
   ]
  },
  {
   "cell_type": "code",
   "execution_count": 50,
   "metadata": {},
   "outputs": [],
   "source": [
    "test_data.drop('Loan Status',axis=1,inplace=True)"
   ]
  },
  {
   "cell_type": "code",
   "execution_count": 51,
   "metadata": {},
   "outputs": [
    {
     "data": {
      "text/plain": [
       "Index(['Current Loan Amount', 'Term', 'Credit Score', 'Annual Income',\n",
       "       'Years in current job', 'Home Ownership', 'Purpose', 'Monthly Debt',\n",
       "       'Years of Credit History', 'Number of Open Accounts',\n",
       "       'Number of Credit Problems', 'Current Credit Balance',\n",
       "       'Maximum Open Credit', 'Bankruptcies', 'Tax Liens',\n",
       "       'Credit Score_range', 'Annual Income Range', 'Loan Risky'],\n",
       "      dtype='object')"
      ]
     },
     "execution_count": 51,
     "metadata": {},
     "output_type": "execute_result"
    }
   ],
   "source": [
    "test_data.columns"
   ]
  },
  {
   "cell_type": "code",
   "execution_count": 52,
   "metadata": {},
   "outputs": [],
   "source": [
    "loan_test_y=test_data['Credit Score']\n",
    "loan_test_x=test_data[['Current Loan Amount',\n",
    "        'Annual Income', 'Years in current job', 'Monthly Debt', 'Years of Credit History',\n",
    "       'Number of Open Accounts','Bankruptcies',\n",
    "       'Current Credit Balance', 'Maximum Open Credit',\n",
    "       'Tax Liens']]"
   ]
  },
  {
   "cell_type": "code",
   "execution_count": 53,
   "metadata": {},
   "outputs": [],
   "source": [
    "loan_test_cat=loan_test_x.select_dtypes(include='object')\n",
    "loan_test_num=loan_test_x.select_dtypes(include='number')"
   ]
  },
  {
   "cell_type": "code",
   "execution_count": 54,
   "metadata": {},
   "outputs": [],
   "source": [
    "loan_test_cat=pd.get_dummies(loan_test_cat)\n",
    "loan_test_x=pd.concat([loan_test_cat,loan_test_num],axis=1)"
   ]
  },
  {
   "cell_type": "code",
   "execution_count": 55,
   "metadata": {},
   "outputs": [
    {
     "name": "stderr",
     "output_type": "stream",
     "text": [
      "C:\\Users\\Karthik\\Anaconda3\\lib\\site-packages\\sklearn\\linear_model\\ridge.py:125: LinAlgWarning: Ill-conditioned matrix (rcond=1.06394e-20): result may not be accurate.\n",
      "  overwrite_a=True).T\n"
     ]
    },
    {
     "ename": "ValueError",
     "evalue": "shapes (18301,20) and (19,) not aligned: 20 (dim 1) != 19 (dim 0)",
     "output_type": "error",
     "traceback": [
      "\u001b[1;31m---------------------------------------------------------------------------\u001b[0m",
      "\u001b[1;31mValueError\u001b[0m                                Traceback (most recent call last)",
      "\u001b[1;32m<ipython-input-55-b13743956528>\u001b[0m in \u001b[0;36m<module>\u001b[1;34m\u001b[0m\n\u001b[0;32m      1\u001b[0m \u001b[0mlin_model\u001b[0m\u001b[1;33m=\u001b[0m\u001b[0mRidge\u001b[0m\u001b[1;33m(\u001b[0m\u001b[1;33m)\u001b[0m\u001b[1;33m.\u001b[0m\u001b[0mfit\u001b[0m\u001b[1;33m(\u001b[0m\u001b[0mloan_train_x\u001b[0m\u001b[1;33m,\u001b[0m\u001b[0mloan_train_y\u001b[0m\u001b[1;33m)\u001b[0m\u001b[1;33m\u001b[0m\u001b[1;33m\u001b[0m\u001b[0m\n\u001b[1;32m----> 2\u001b[1;33m \u001b[0mpredicted_Credit_scores\u001b[0m\u001b[1;33m=\u001b[0m\u001b[0mlin_model\u001b[0m\u001b[1;33m.\u001b[0m\u001b[0mpredict\u001b[0m\u001b[1;33m(\u001b[0m\u001b[0mloan_test_x\u001b[0m\u001b[1;33m)\u001b[0m\u001b[1;33m\u001b[0m\u001b[1;33m\u001b[0m\u001b[0m\n\u001b[0m",
      "\u001b[1;32m~\\Anaconda3\\lib\\site-packages\\sklearn\\linear_model\\base.py\u001b[0m in \u001b[0;36mpredict\u001b[1;34m(self, X)\u001b[0m\n\u001b[0;32m    211\u001b[0m             \u001b[0mReturns\u001b[0m \u001b[0mpredicted\u001b[0m \u001b[0mvalues\u001b[0m\u001b[1;33m.\u001b[0m\u001b[1;33m\u001b[0m\u001b[1;33m\u001b[0m\u001b[0m\n\u001b[0;32m    212\u001b[0m         \"\"\"\n\u001b[1;32m--> 213\u001b[1;33m         \u001b[1;32mreturn\u001b[0m \u001b[0mself\u001b[0m\u001b[1;33m.\u001b[0m\u001b[0m_decision_function\u001b[0m\u001b[1;33m(\u001b[0m\u001b[0mX\u001b[0m\u001b[1;33m)\u001b[0m\u001b[1;33m\u001b[0m\u001b[1;33m\u001b[0m\u001b[0m\n\u001b[0m\u001b[0;32m    214\u001b[0m \u001b[1;33m\u001b[0m\u001b[0m\n\u001b[0;32m    215\u001b[0m     \u001b[0m_preprocess_data\u001b[0m \u001b[1;33m=\u001b[0m \u001b[0mstaticmethod\u001b[0m\u001b[1;33m(\u001b[0m\u001b[0m_preprocess_data\u001b[0m\u001b[1;33m)\u001b[0m\u001b[1;33m\u001b[0m\u001b[1;33m\u001b[0m\u001b[0m\n",
      "\u001b[1;32m~\\Anaconda3\\lib\\site-packages\\sklearn\\linear_model\\base.py\u001b[0m in \u001b[0;36m_decision_function\u001b[1;34m(self, X)\u001b[0m\n\u001b[0;32m    196\u001b[0m         \u001b[0mX\u001b[0m \u001b[1;33m=\u001b[0m \u001b[0mcheck_array\u001b[0m\u001b[1;33m(\u001b[0m\u001b[0mX\u001b[0m\u001b[1;33m,\u001b[0m \u001b[0maccept_sparse\u001b[0m\u001b[1;33m=\u001b[0m\u001b[1;33m[\u001b[0m\u001b[1;34m'csr'\u001b[0m\u001b[1;33m,\u001b[0m \u001b[1;34m'csc'\u001b[0m\u001b[1;33m,\u001b[0m \u001b[1;34m'coo'\u001b[0m\u001b[1;33m]\u001b[0m\u001b[1;33m)\u001b[0m\u001b[1;33m\u001b[0m\u001b[1;33m\u001b[0m\u001b[0m\n\u001b[0;32m    197\u001b[0m         return safe_sparse_dot(X, self.coef_.T,\n\u001b[1;32m--> 198\u001b[1;33m                                dense_output=True) + self.intercept_\n\u001b[0m\u001b[0;32m    199\u001b[0m \u001b[1;33m\u001b[0m\u001b[0m\n\u001b[0;32m    200\u001b[0m     \u001b[1;32mdef\u001b[0m \u001b[0mpredict\u001b[0m\u001b[1;33m(\u001b[0m\u001b[0mself\u001b[0m\u001b[1;33m,\u001b[0m \u001b[0mX\u001b[0m\u001b[1;33m)\u001b[0m\u001b[1;33m:\u001b[0m\u001b[1;33m\u001b[0m\u001b[1;33m\u001b[0m\u001b[0m\n",
      "\u001b[1;32m~\\Anaconda3\\lib\\site-packages\\sklearn\\utils\\extmath.py\u001b[0m in \u001b[0;36msafe_sparse_dot\u001b[1;34m(a, b, dense_output)\u001b[0m\n\u001b[0;32m    171\u001b[0m         \u001b[1;32mreturn\u001b[0m \u001b[0mret\u001b[0m\u001b[1;33m\u001b[0m\u001b[1;33m\u001b[0m\u001b[0m\n\u001b[0;32m    172\u001b[0m     \u001b[1;32melse\u001b[0m\u001b[1;33m:\u001b[0m\u001b[1;33m\u001b[0m\u001b[1;33m\u001b[0m\u001b[0m\n\u001b[1;32m--> 173\u001b[1;33m         \u001b[1;32mreturn\u001b[0m \u001b[0mnp\u001b[0m\u001b[1;33m.\u001b[0m\u001b[0mdot\u001b[0m\u001b[1;33m(\u001b[0m\u001b[0ma\u001b[0m\u001b[1;33m,\u001b[0m \u001b[0mb\u001b[0m\u001b[1;33m)\u001b[0m\u001b[1;33m\u001b[0m\u001b[1;33m\u001b[0m\u001b[0m\n\u001b[0m\u001b[0;32m    174\u001b[0m \u001b[1;33m\u001b[0m\u001b[0m\n\u001b[0;32m    175\u001b[0m \u001b[1;33m\u001b[0m\u001b[0m\n",
      "\u001b[1;31mValueError\u001b[0m: shapes (18301,20) and (19,) not aligned: 20 (dim 1) != 19 (dim 0)"
     ]
    }
   ],
   "source": [
    "lin_model=Ridge().fit(loan_train_x,loan_train_y)\n",
    "predicted_Credit_scores=lin_model.predict(loan_test_x)"
   ]
  },
  {
   "cell_type": "code",
   "execution_count": null,
   "metadata": {},
   "outputs": [],
   "source": [
    "predicted_Credit_scores[:20]"
   ]
  },
  {
   "cell_type": "code",
   "execution_count": null,
   "metadata": {},
   "outputs": [],
   "source": [
    "predicted_Credit_scores"
   ]
  },
  {
   "cell_type": "code",
   "execution_count": null,
   "metadata": {},
   "outputs": [],
   "source": [
    "print(\"Mean Squared Error:\",mean_squared_error(loan_test_y,predicted_Credit_scores))"
   ]
  },
  {
   "cell_type": "code",
   "execution_count": null,
   "metadata": {},
   "outputs": [],
   "source": [
    "print(\"R2 value:\",r2_score(loan_test_y,predicted_Credit_scores))"
   ]
  },
  {
   "cell_type": "code",
   "execution_count": null,
   "metadata": {},
   "outputs": [],
   "source": [
    "lin_model.intercept_"
   ]
  },
  {
   "cell_type": "code",
   "execution_count": null,
   "metadata": {},
   "outputs": [],
   "source": [
    "lin_model.coef_[1]"
   ]
  },
  {
   "cell_type": "code",
   "execution_count": null,
   "metadata": {},
   "outputs": [],
   "source": [
    "lin_model.coef_"
   ]
  },
  {
   "cell_type": "code",
   "execution_count": null,
   "metadata": {},
   "outputs": [],
   "source": [
    "loan_test_x['Credit Score']=predicted_Credit_scores"
   ]
  },
  {
   "cell_type": "code",
   "execution_count": null,
   "metadata": {},
   "outputs": [],
   "source": [
    "loan_train_x['Credit Score']=loan_train_y"
   ]
  },
  {
   "cell_type": "code",
   "execution_count": null,
   "metadata": {},
   "outputs": [],
   "source": [
    "total_data=pd.concat([loan_train_x,loan_test_x],axis=0)"
   ]
  },
  {
   "cell_type": "code",
   "execution_count": null,
   "metadata": {},
   "outputs": [],
   "source": [
    "total_data.head(5)"
   ]
  },
  {
   "cell_type": "code",
   "execution_count": null,
   "metadata": {},
   "outputs": [],
   "source": [
    "df['Loan Status'].value_counts()"
   ]
  },
  {
   "cell_type": "code",
   "execution_count": null,
   "metadata": {},
   "outputs": [],
   "source": [
    "total_data['Loan Status']=df['Loan Status'].replace(to_replace=[\"Fully Paid\",\"Charged Off\"],value=[\"1\",\"0\"])"
   ]
  },
  {
   "cell_type": "code",
   "execution_count": null,
   "metadata": {},
   "outputs": [],
   "source": [
    "total_data.reset_index(drop=True,inplace=True)"
   ]
  },
  {
   "cell_type": "code",
   "execution_count": null,
   "metadata": {},
   "outputs": [],
   "source": [
    "total_data.head(5)"
   ]
  },
  {
   "cell_type": "code",
   "execution_count": null,
   "metadata": {},
   "outputs": [],
   "source": [
    "gx=df['Annual Income']\n",
    "gy=df['Credit Score']\n",
    "def standardize(gx):\n",
    "    return (gx-np.mean(gx))/np.std(gx)"
   ]
  },
  {
   "cell_type": "code",
   "execution_count": null,
   "metadata": {},
   "outputs": [],
   "source": [
    "DX=standardize(gx)\n",
    "DX=np.c_[np.ones(gx.shape[0]),DX]\n",
    "print(DX)"
   ]
  },
  {
   "cell_type": "code",
   "execution_count": null,
   "metadata": {},
   "outputs": [],
   "source": [
    "alpha=0.01\n",
    "m=gy.size\n",
    "np.random.seed(23)\n",
    "theta=np.random.rand(2)\n",
    "iterations=2000"
   ]
  },
  {
   "cell_type": "code",
   "execution_count": null,
   "metadata": {},
   "outputs": [],
   "source": [
    "def gradient_descent(gx,gy,theta,alpha,iterations):\n",
    "    past_costs=[]\n",
    "    past_thetas=[theta]\n",
    "    print(past_thetas)\n",
    "    for i in range(iterations):\n",
    "        prediction=np.dot(gx,theta) \n",
    "        error=prediction-gy \n",
    "        cost=1/(m)*np.dot(error.T,error) \n",
    "        past_costs.append(cost)\n",
    "        theta=theta-(alpha*(1/m)*np.dot(gx.T,error)) \n",
    "        past_thetas.append(theta)\n",
    "    return past_costs,past_thetas\n",
    "past_costs,past_thetas=gradient_descent(DX,gy,theta,alpha,iterations)"
   ]
  },
  {
   "cell_type": "code",
   "execution_count": null,
   "metadata": {},
   "outputs": [],
   "source": [
    "print(past_thetas[-1])"
   ]
  },
  {
   "cell_type": "code",
   "execution_count": null,
   "metadata": {},
   "outputs": [],
   "source": [
    "plt.title('Cost Function J')\n",
    "plt.xlabel('No. of iterations')\n",
    "plt.ylabel('Cost')\n",
    "plt.plot(past_costs)\n",
    "plt.show()"
   ]
  },
  {
   "cell_type": "code",
   "execution_count": null,
   "metadata": {},
   "outputs": [],
   "source": [
    "gx=df['Current Loan Amount']\n",
    "gy=df['Credit Score']\n",
    "def standardize(gx):\n",
    "    return (gx-np.mean(gx))/np.std(gx)\n",
    "\n",
    "DX=standardize(gx)\n",
    "DX=np.c_[np.ones(gx.shape[0]),DX]\n",
    "print(DX)\n",
    "\n",
    "alpha=0.01\n",
    "m=gy.size\n",
    "np.random.seed(23)\n",
    "theta=np.random.rand(2)\n",
    "iterations=2000\n",
    "\n",
    "def gradient_descent(gx,gy,theta,alpha,iterations):\n",
    "    past_costs=[]\n",
    "    past_thetas=[theta]\n",
    "    print(past_thetas)\n",
    "    for i in range(iterations):\n",
    "        prediction=np.dot(gx,theta) \n",
    "        error=prediction-gy \n",
    "        cost=1/(m)*np.dot(error.T,error) \n",
    "        past_costs.append(cost)\n",
    "        theta=theta-(alpha*(1/m)*np.dot(gx.T,error)) \n",
    "        past_thetas.append(theta)\n",
    "    return past_costs,past_thetas\n",
    "past_costs,past_thetas=gradient_descent(DX,gy,theta,alpha,iterations)\n",
    "\n",
    "print(past_thetas[-1])\n",
    "\n",
    "plt.title('Cost Function J')\n",
    "plt.xlabel('No. of iterations')\n",
    "plt.ylabel('Cost')\n",
    "plt.plot(past_costs)\n",
    "plt.show()"
   ]
  },
  {
   "cell_type": "code",
   "execution_count": null,
   "metadata": {},
   "outputs": [],
   "source": [
    "from sklearn.tree import DecisionTreeClassifier\n",
    "from scikitplot.metrics import plot_roc_curve"
   ]
  },
  {
   "cell_type": "code",
   "execution_count": null,
   "metadata": {},
   "outputs": [],
   "source": [
    "target= total_data['Loan Status']\n",
    "ind_vars= total_data.loc[:,total_data.columns!='Loan Status']"
   ]
  },
  {
   "cell_type": "code",
   "execution_count": null,
   "metadata": {},
   "outputs": [],
   "source": [
    "x_train,x_test,y_train,y_test=train_test_split(ind_vars,target,test_size=0.2,random_state=35)"
   ]
  },
  {
   "cell_type": "code",
   "execution_count": null,
   "metadata": {},
   "outputs": [],
   "source": [
    "lg_model=LogisticRegression().fit(x_train,y_train)\n",
    "lg_predicted_values=lg_model.predict(x_test)"
   ]
  },
  {
   "cell_type": "code",
   "execution_count": null,
   "metadata": {},
   "outputs": [],
   "source": [
    "print(sm.accuracy_score(y_test,lg_predicted_values)*100)"
   ]
  },
  {
   "cell_type": "code",
   "execution_count": null,
   "metadata": {},
   "outputs": [],
   "source": [
    "print(sm.confusion_matrix(y_test,lg_predicted_values))"
   ]
  },
  {
   "cell_type": "code",
   "execution_count": null,
   "metadata": {},
   "outputs": [],
   "source": [
    "print(sm.classification_report(y_test,lg_predicted_values))"
   ]
  },
  {
   "cell_type": "code",
   "execution_count": null,
   "metadata": {},
   "outputs": [],
   "source": [
    "top_features=pd.Series(lg_model.coef_[0],index=loan_train_x.columns)\n",
    "top_features.sort_values(ascending=False)[:10].plot(kind=\"bar\")"
   ]
  },
  {
   "cell_type": "code",
   "execution_count": null,
   "metadata": {},
   "outputs": [],
   "source": [
    "decisionTree_model=DecisionTreeClassifier(criterion='gini').fit(x_train,y_train)\n",
    "train_predictions=decisionTree_model.predict(x_train)\n",
    "test_predictions=decisionTree_model.predict(x_test)"
   ]
  },
  {
   "cell_type": "code",
   "execution_count": null,
   "metadata": {},
   "outputs": [],
   "source": [
    "print(\"Decision Tree Train Accuracy:\",sm.accuracy_score(y_train,train_predictions))\n",
    "print(\"Decision Tree Test Accuracy:\",sm.accuracy_score(y_test,test_predictions))"
   ]
  },
  {
   "cell_type": "code",
   "execution_count": null,
   "metadata": {},
   "outputs": [],
   "source": [
    "print(sm.classification_report(y_test,test_predictions))"
   ]
  },
  {
   "cell_type": "code",
   "execution_count": null,
   "metadata": {},
   "outputs": [],
   "source": [
    "y_pred_probs = decisionTree_model.predict_proba(x_test)\n",
    "plot_roc_curve(y_test, y_pred_probs, curves=['each_class'], figsize=(10,7))\n",
    "plt.show()"
   ]
  },
  {
   "cell_type": "code",
   "execution_count": null,
   "metadata": {},
   "outputs": [],
   "source": [
    "from sklearn.ensemble import RandomForestClassifier\n",
    "from sklearn.model_selection import  cross_val_score,GridSearchCV"
   ]
  },
  {
   "cell_type": "code",
   "execution_count": null,
   "metadata": {},
   "outputs": [],
   "source": [
    "RF_clf = RandomForestClassifier(n_estimators=100,random_state=0, n_jobs=-1, class_weight=\"balanced\",oob_score=True)\n",
    "RF_clf.fit(x_train,y_train)"
   ]
  },
  {
   "cell_type": "code",
   "execution_count": null,
   "metadata": {},
   "outputs": [],
   "source": [
    "rf_train_predictions=RF_clf.predict(x_train)\n",
    "print(\"Random Forest Train Accuracy:\",sm.accuracy_score(y_train,rf_train_predictions)*100)\n",
    "\n",
    "rf_predictions=RF_clf.predict(x_test)\n",
    "print(\"Random Forest Test Accuracy:\",sm.accuracy_score(y_test,rf_predictions)*100)"
   ]
  },
  {
   "cell_type": "code",
   "execution_count": null,
   "metadata": {},
   "outputs": [],
   "source": [
    "imp_features=RF_clf.feature_importances_\n",
    "cols=x_train.columns\n",
    "important_features=[]\n",
    "for feat_names in zip(cols,imp_features):\n",
    "    important_features.append(feat_names)\n",
    "\n",
    "top_10_features=sorted(important_features, key=lambda x: x[1],reverse=True)[:10]\n",
    "plt.bar(*zip(*top_10_features))\n",
    "plt.xticks(rotation=90)\n",
    "plt.show()"
   ]
  },
  {
   "cell_type": "code",
   "execution_count": null,
   "metadata": {},
   "outputs": [],
   "source": [
    "imp_features=RF_clf.feature_importances_\n",
    "cols=x_train.columns\n",
    "important_features=[]\n",
    "for feat_names in zip(cols,imp_features):\n",
    "    important_features.append(feat_names)\n",
    "\n",
    "least_10_features=sorted(important_features, key=lambda x: x[1],reverse=True)[-10:]\n",
    "plt.bar(*zip(*least_10_features))\n",
    "plt.xticks(rotation=90)\n",
    "plt.show()"
   ]
  },
  {
   "cell_type": "code",
   "execution_count": null,
   "metadata": {},
   "outputs": [],
   "source": [
    "params = {'max_depth': range(1,10,2),\n",
    "          'max_features': ['auto', 'sqrt','log2'],\n",
    "          'n_estimators': [5, 10, 12, 14, 15, 20],\n",
    "          'min_samples_leaf': [1, 2, 4],\n",
    "          'min_samples_split': [2, 5, 10],\n",
    "          'cv': [3,6,10]\n",
    "         }\n",
    "\n",
    "Grid_randomF = GridSearchCV(RandomForestClassifier(random_state=15), params)\n",
    "\n",
    "Grid_randomF.fit(x_train, y_train)\n",
    "\n",
    "print(Grid_randomF.best_params_)"
   ]
  },
  {
   "cell_type": "code",
   "execution_count": null,
   "metadata": {},
   "outputs": [],
   "source": [
    "clf = RandomForestClassifier(random_state=0, n_jobs=-1, class_weight=\"balanced\",oob_score=True,**Grid_randomF.best_params_)\n",
    "clf.fit(x_train,y_train)"
   ]
  },
  {
   "cell_type": "code",
   "execution_count": null,
   "metadata": {},
   "outputs": [],
   "source": [
    "clf_score = cross_val_score(clf, x_train, y_train, cv=10)\n",
    "print(clf_score)\n",
    "clf_score.mean()"
   ]
  }
 ],
 "metadata": {
  "kernelspec": {
   "display_name": "Python 3",
   "language": "python",
   "name": "python3"
  },
  "language_info": {
   "codemirror_mode": {
    "name": "ipython",
    "version": 3
   },
   "file_extension": ".py",
   "mimetype": "text/x-python",
   "name": "python",
   "nbconvert_exporter": "python",
   "pygments_lexer": "ipython3",
   "version": "3.7.3"
  }
 },
 "nbformat": 4,
 "nbformat_minor": 2
}
